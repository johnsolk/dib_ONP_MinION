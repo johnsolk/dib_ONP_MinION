{
 "cells": [
  {
   "cell_type": "code",
   "execution_count": 6,
   "metadata": {
    "collapsed": false
   },
   "outputs": [
    {
     "name": "stdout",
     "output_type": "stream",
     "text": [
      "total reads\t23388\n",
      "total base pairs\t109116394\n",
      "mean\t4665.49\n",
      "median\t3128\n",
      "min\t130\n",
      "max\t31659\n",
      "N25\t12385\n",
      "N50\t8181\n",
      "N75\t4524\n"
     ]
    }
   ],
   "source": [
    "!poretools stats -q C:\\Users\\dib\\Documents\\ONP\\MinIon_device\\downloads\\fail\\unclassified"
   ]
  },
  {
   "cell_type": "code",
   "execution_count": 7,
   "metadata": {
    "collapsed": false
   },
   "outputs": [
    {
     "name": "stdout",
     "output_type": "stream",
     "text": [
      "total reads\t7796\n",
      "total base pairs\t39215947\n",
      "mean\t5030.27\n",
      "median\t3398\n",
      "min\t176\n",
      "max\t31127\n",
      "N25\t13313\n",
      "N50\t8858\n",
      "N75\t4849\n"
     ]
    }
   ],
   "source": [
    "!poretools stats -q --type fwd C:\\Users\\dib\\Documents\\ONP\\MinIon_device\\downloads\\fail\\unclassified"
   ]
  },
  {
   "cell_type": "code",
   "execution_count": 8,
   "metadata": {
    "collapsed": false
   },
   "outputs": [
    {
     "name": "stdout",
     "output_type": "stream",
     "text": [
      "total reads\t7796\n",
      "total base pairs\t33149906\n",
      "mean\t4252.17\n",
      "median\t2860\n",
      "min\t130\n",
      "max\t28915\n",
      "N25\t11443\n",
      "N50\t7491\n",
      "N75\t4173\n"
     ]
    }
   ],
   "source": [
    "!poretools stats -q --type rev C:\\Users\\dib\\Documents\\ONP\\MinIon_device\\downloads\\fail\\unclassified"
   ]
  },
  {
   "cell_type": "code",
   "execution_count": 9,
   "metadata": {
    "collapsed": false
   },
   "outputs": [
    {
     "name": "stdout",
     "output_type": "stream",
     "text": [
      "total reads\t7796\n",
      "total base pairs\t36750541\n",
      "mean\t4714.03\n",
      "median\t3203\n",
      "min\t157\n",
      "max\t31659\n",
      "N25\t12391\n",
      "N50\t8245\n",
      "N75\t4579\n"
     ]
    }
   ],
   "source": [
    "!poretools stats -q --type 2D C:\\Users\\dib\\Documents\\ONP\\MinIon_device\\downloads\\fail\\unclassified"
   ]
  },
  {
   "cell_type": "code",
   "execution_count": null,
   "metadata": {
    "collapsed": true
   },
   "outputs": [],
   "source": [
    "!poretools yield_plot --saveas yield_plot.png --plot-type reads C:\\Users\\dib\\Documents\\ONP\\MinIon_device\\downloads\\fail\\unclassified"
   ]
  },
  {
   "cell_type": "code",
   "execution_count": null,
   "metadata": {
    "collapsed": true
   },
   "outputs": [],
   "source": [
    "!poretools hist -q --theme-bw --min-length 1000 --max-length 40000 --saveas hist.png C:\\Users\\dib\\Documents\\ONP\\MinIon_device\\downloads\\fail\\unclassified"
   ]
  },
  {
   "cell_type": "code",
   "execution_count": null,
   "metadata": {
    "collapsed": true
   },
   "outputs": [],
   "source": [
    "!poretools nucdist -q C:\\Users\\dib\\Documents\\ONP\\MinIon_device\\downloads\\fail\\unclassified"
   ]
  },
  {
   "cell_type": "code",
   "execution_count": null,
   "metadata": {
    "collapsed": true
   },
   "outputs": [],
   "source": []
  }
 ],
 "metadata": {
  "kernelspec": {
   "display_name": "Python 2",
   "language": "python",
   "name": "python2"
  },
  "language_info": {
   "codemirror_mode": {
    "name": "ipython",
    "version": 2
   },
   "file_extension": ".py",
   "mimetype": "text/x-python",
   "name": "python",
   "nbconvert_exporter": "python",
   "pygments_lexer": "ipython2",
   "version": "2.7.12"
  }
 },
 "nbformat": 4,
 "nbformat_minor": 0
}
