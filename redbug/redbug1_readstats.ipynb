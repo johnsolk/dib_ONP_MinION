{
 "cells": [
  {
   "cell_type": "code",
   "execution_count": 2,
   "metadata": {
    "collapsed": false
   },
   "outputs": [
    {
     "name": "stdout",
     "output_type": "stream",
     "text": [
      "Populating the interactive namespace from numpy and matplotlib\n"
     ]
    }
   ],
   "source": [
    "%matplotlib inline\n",
    "%pylab inline\n",
    "from IPython.display import Image"
   ]
  },
  {
   "cell_type": "code",
   "execution_count": 3,
   "metadata": {
    "collapsed": true
   },
   "outputs": [],
   "source": [
    "directory=\"redbug1/\""
   ]
  },
  {
   "cell_type": "code",
   "execution_count": 4,
   "metadata": {
    "collapsed": false
   },
   "outputs": [
    {
     "name": "stdout",
     "output_type": "stream",
     "text": [
      "total reads\t11997\r\n",
      "total base pairs\t86599927\r\n",
      "mean\t7218.47\r\n",
      "median\t7053\r\n",
      "min\t191\r\n",
      "max\t31110\r\n",
      "N25\t10736\r\n",
      "N50\t8392\r\n",
      "N75\t6520\r\n"
     ]
    }
   ],
   "source": [
    "!poretools stats -q $directory"
   ]
  },
  {
   "cell_type": "code",
   "execution_count": 5,
   "metadata": {
    "collapsed": false
   },
   "outputs": [
    {
     "name": "stdout",
     "output_type": "stream",
     "text": [
      "total reads\t3999\r\n",
      "total base pairs\t29207230\r\n",
      "mean\t7303.63\r\n",
      "median\t7159\r\n",
      "min\t237\r\n",
      "max\t31110\r\n",
      "N25\t10876\r\n",
      "N50\t8462\r\n",
      "N75\t6595\r\n"
     ]
    }
   ],
   "source": [
    "!poretools stats -q --type 2D $directory"
   ]
  },
  {
   "cell_type": "markdown",
   "metadata": {},
   "source": [
    "It looks like the fastq is only 2D reads:"
   ]
  },
  {
   "cell_type": "code",
   "execution_count": 6,
   "metadata": {
    "collapsed": false
   },
   "outputs": [
    {
     "name": "stdout",
     "output_type": "stream",
     "text": [
      "3998\r\n"
     ]
    }
   ],
   "source": [
    "! grep \">\" redbug1.fastq | wc -l"
   ]
  },
  {
   "cell_type": "markdown",
   "metadata": {},
   "source": [
    "Is there a way to make fastq with 1D reads?"
   ]
  },
  {
   "cell_type": "code",
   "execution_count": 7,
   "metadata": {
    "collapsed": false
   },
   "outputs": [
    {
     "name": "stdout",
     "output_type": "stream",
     "text": [
      "INFO:poretools:100 files processed.\n",
      "INFO:poretools:200 files processed.\n",
      "INFO:poretools:300 files processed.\n",
      "INFO:poretools:400 files processed.\n",
      "INFO:poretools:500 files processed.\n",
      "INFO:poretools:600 files processed.\n",
      "INFO:poretools:700 files processed.\n",
      "INFO:poretools:800 files processed.\n",
      "INFO:poretools:900 files processed.\n",
      "INFO:poretools:1000 files processed.\n",
      "INFO:poretools:1100 files processed.\n",
      "INFO:poretools:1200 files processed.\n",
      "INFO:poretools:1300 files processed.\n",
      "INFO:poretools:1400 files processed.\n",
      "INFO:poretools:1500 files processed.\n",
      "INFO:poretools:1600 files processed.\n",
      "INFO:poretools:1700 files processed.\n",
      "INFO:poretools:1800 files processed.\n",
      "INFO:poretools:1900 files processed.\n",
      "INFO:poretools:2000 files processed.\n",
      "INFO:poretools:2100 files processed.\n",
      "INFO:poretools:2200 files processed.\n",
      "INFO:poretools:2300 files processed.\n",
      "INFO:poretools:2400 files processed.\n",
      "INFO:poretools:2500 files processed.\n",
      "INFO:poretools:2600 files processed.\n",
      "INFO:poretools:2700 files processed.\n",
      "INFO:poretools:2800 files processed.\n",
      "INFO:poretools:2900 files processed.\n",
      "INFO:poretools:3000 files processed.\n",
      "INFO:poretools:3100 files processed.\n",
      "INFO:poretools:3200 files processed.\n",
      "INFO:poretools:3300 files processed.\n",
      "INFO:poretools:3400 files processed.\n",
      "INFO:poretools:3500 files processed.\n",
      "INFO:poretools:3600 files processed.\n",
      "INFO:poretools:3700 files processed.\n",
      "INFO:poretools:3800 files processed.\n",
      "INFO:poretools:3900 files processed.\n",
      "/usr/lib/pymodules/python2.7/matplotlib/font_manager.py:1236: UserWarning: findfont: Font family ['sans-serif'] not found. Falling back to Bitstream Vera Sans\n",
      "  (prop.get_family(), self.defaultFamily[fontext]))\n",
      "/usr/lib/pymodules/python2.7/matplotlib/font_manager.py:1246: UserWarning: findfont: Could not match :family=Bitstream Vera Sans:style=normal:variant=normal:weight=normal:stretch=normal:size=10.0. Returning /usr/share/matplotlib/mpl-data/fonts/ttf/cmb10.ttf\n",
      "  UserWarning)\n",
      "/usr/lib/pymodules/python2.7/matplotlib/font_manager.py:1246: UserWarning: findfont: Could not match :family=Bitstream Vera Sans:style=normal:variant=normal:weight=normal:stretch=normal:size=11.0. Returning /usr/share/matplotlib/mpl-data/fonts/ttf/cmb10.ttf\n",
      "  UserWarning)\n"
     ]
    }
   ],
   "source": [
    "!poretools hist -q --theme-bw --min-length 1000 --max-length 40000 --saveas redbug1_hist.png $directory"
   ]
  },
  {
   "cell_type": "code",
   "execution_count": 8,
   "metadata": {
    "collapsed": false
   },
   "outputs": [
    {
     "data": {
      "image/png": "[encoded data removed]",
      "text/plain": [
       "<IPython.core.display.Image object>"
      ]
     },
     "execution_count": 8,
     "metadata": {},
     "output_type": "execute_result"
    }
   ],
   "source": [
    "Image(\"redbug1_hist.png\")"
   ]
  },
  {
   "cell_type": "code",
   "execution_count": null,
   "metadata": {
    "collapsed": true
   },
   "outputs": [],
   "source": []
  }
 ],
 "metadata": {
  "kernelspec": {
   "display_name": "Python 2",
   "language": "python",
   "name": "python2"
  },
  "language_info": {
   "codemirror_mode": {
    "name": "ipython",
    "version": 2
   },
   "file_extension": ".py",
   "mimetype": "text/x-python",
   "name": "python",
   "nbconvert_exporter": "python",
   "pygments_lexer": "ipython2",
   "version": "2.7.6"
  }
 },
 "nbformat": 4,
 "nbformat_minor": 0
}
