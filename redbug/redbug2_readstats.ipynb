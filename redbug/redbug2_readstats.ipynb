{
 "cells": [
  {
   "cell_type": "code",
   "execution_count": 1,
   "metadata": {
    "collapsed": false
   },
   "outputs": [
    {
     "name": "stdout",
     "output_type": "stream",
     "text": [
      "Populating the interactive namespace from numpy and matplotlib\n"
     ]
    }
   ],
   "source": [
    "%matplotlib inline\n",
    "%pylab inline\n",
    "from IPython.display import Image"
   ]
  },
  {
   "cell_type": "code",
   "execution_count": 2,
   "metadata": {
    "collapsed": true
   },
   "outputs": [],
   "source": [
    "directory=\"redbug2/\""
   ]
  },
  {
   "cell_type": "code",
   "execution_count": 3,
   "metadata": {
    "collapsed": false
   },
   "outputs": [
    {
     "name": "stdout",
     "output_type": "stream",
     "text": [
      "total reads\t2604\r\n",
      "total base pairs\t21408729\r\n",
      "mean\t8221.48\r\n",
      "median\t7866\r\n",
      "min\t208\r\n",
      "max\t24097\r\n",
      "N25\t11388\r\n",
      "N50\t9063\r\n",
      "N75\t7187\r\n"
     ]
    }
   ],
   "source": [
    "!poretools stats -q $directory"
   ]
  },
  {
   "cell_type": "code",
   "execution_count": 4,
   "metadata": {
    "collapsed": false
   },
   "outputs": [
    {
     "name": "stdout",
     "output_type": "stream",
     "text": [
      "total reads\t868\r\n",
      "total base pairs\t7244202\r\n",
      "mean\t8345.85\r\n",
      "median\t8022\r\n",
      "min\t219\r\n",
      "max\t22592\r\n",
      "N25\t11608\r\n",
      "N50\t9112\r\n",
      "N75\t7261\r\n"
     ]
    }
   ],
   "source": [
    "!poretools stats -q --type 2D $directory"
   ]
  },
  {
   "cell_type": "code",
   "execution_count": 5,
   "metadata": {
    "collapsed": false
   },
   "outputs": [
    {
     "name": "stdout",
     "output_type": "stream",
     "text": [
      "INFO:poretools:100 files processed.\n",
      "INFO:poretools:200 files processed.\n",
      "INFO:poretools:300 files processed.\n",
      "INFO:poretools:400 files processed.\n",
      "INFO:poretools:500 files processed.\n",
      "INFO:poretools:600 files processed.\n",
      "INFO:poretools:700 files processed.\n",
      "INFO:poretools:800 files processed.\n",
      "/usr/lib/pymodules/python2.7/matplotlib/font_manager.py:1236: UserWarning: findfont: Font family ['sans-serif'] not found. Falling back to Bitstream Vera Sans\n",
      "  (prop.get_family(), self.defaultFamily[fontext]))\n",
      "/usr/lib/pymodules/python2.7/matplotlib/font_manager.py:1246: UserWarning: findfont: Could not match :family=Bitstream Vera Sans:style=normal:variant=normal:weight=normal:stretch=normal:size=10.0. Returning /usr/share/matplotlib/mpl-data/fonts/ttf/cmb10.ttf\n",
      "  UserWarning)\n",
      "/usr/lib/pymodules/python2.7/matplotlib/font_manager.py:1246: UserWarning: findfont: Could not match :family=Bitstream Vera Sans:style=normal:variant=normal:weight=normal:stretch=normal:size=11.0. Returning /usr/share/matplotlib/mpl-data/fonts/ttf/cmb10.ttf\n",
      "  UserWarning)\n"
     ]
    }
   ],
   "source": [
    "!poretools hist -q --theme-bw --min-length 1000 --max-length 40000 --saveas redbug2_hist.png $directory"
   ]
  },
  {
   "cell_type": "code",
   "execution_count": 8,
   "metadata": {
    "collapsed": false
   },
   "outputs": [
    {
     "data": {
      "image/png": "[encoded data removed]",
      "text/plain": [
       "<IPython.core.display.Image object>"
      ]
     },
     "execution_count": 8,
     "metadata": {},
     "output_type": "execute_result"
    }
   ],
   "source": [
    "Image(\"redbug2_hist.png\")"
   ]
  },
  {
   "cell_type": "code",
   "execution_count": null,
   "metadata": {
    "collapsed": true
   },
   "outputs": [],
   "source": []
  }
 ],
 "metadata": {
  "kernelspec": {
   "display_name": "Python 2",
   "language": "python",
   "name": "python2"
  },
  "language_info": {
   "codemirror_mode": {
    "name": "ipython",
    "version": 2
   },
   "file_extension": ".py",
   "mimetype": "text/x-python",
   "name": "python",
   "nbconvert_exporter": "python",
   "pygments_lexer": "ipython2",
   "version": "2.7.6"
  }
 },
 "nbformat": 4,
 "nbformat_minor": 0
}
